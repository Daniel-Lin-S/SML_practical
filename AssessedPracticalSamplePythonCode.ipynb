{
 "cells": [
  {
   "cell_type": "markdown",
   "id": "bb32710c",
   "metadata": {},
   "source": [
    "# SML Pratical\n",
    "\n",
    "Music Genre Classification\n"
   ]
  },
  {
   "cell_type": "code",
   "execution_count": 1,
   "id": "7b5c7d92",
   "metadata": {},
   "outputs": [],
   "source": [
    "# Import libraries\n",
    "import pandas as pd\n",
    "import numpy as np\n",
    "import matplotlib.pyplot as plt\n",
    "import seaborn as sns"
   ]
  },
  {
   "cell_type": "markdown",
   "id": "ff94689a",
   "metadata": {},
   "source": [
    "## Load dataset"
   ]
  },
  {
   "cell_type": "code",
   "execution_count": 2,
   "id": "ec509956",
   "metadata": {},
   "outputs": [],
   "source": [
    "### data loading ###\n",
    "X = pd.read_csv('data/X_train.csv', index_col = 0, header=[0, 1, 2]) # inputs \n",
    "y = pd.read_csv('data/y_train.csv', index_col = 0).squeeze('columns') # labels\n",
    "\n",
    "# total number of rows and columns(attributes)\n",
    "n, p = np.shape(X)\n"
   ]
  },
  {
   "cell_type": "code",
   "execution_count": 4,
   "id": "bbba173d",
   "metadata": {},
   "outputs": [],
   "source": [
    "### map the character labels to numerical ### \n",
    "\n",
    "class_label_mapping = {}\n",
    "\n",
    "def transform_labels_to_numbers(labels):\n",
    "    \"\"\"\n",
    "    Take class labels, and transform them to 0, 1, ..., K (where K is total number of classes)\n",
    "\n",
    "    :param labels: 1d pd Series, contains class labels\n",
    "    \n",
    "    :return transformed_labels: 1d numpy array of the same shape as labels, contains numerical values\n",
    "    :return class_label_mapping: dictionary, records the correspondance between numbers and original classes\n",
    "    \"\"\"\n",
    "    unique_labels = set(labels)\n",
    "    \n",
    "    for i, label in enumerate(unique_labels):\n",
    "        class_label_mapping[label] = i\n",
    "\n",
    "    transformed_labels = [class_label_mapping[label] for label in labels]\n",
    "    \n",
    "    return transformed_labels, class_label_mapping\n",
    "\n",
    "y, label_mapping = transform_labels_to_numbers(y)\n",
    "y = pd.Series(y)"
   ]
  },
  {
   "cell_type": "code",
   "execution_count": 5,
   "id": "16080202",
   "metadata": {},
   "outputs": [
    {
     "name": "stdout",
     "output_type": "stream",
     "text": [
      "Genre 0: Weight 0.12916666666666668\n",
      "Genre 1: Weight 0.12233333333333334\n",
      "Genre 2: Weight 0.12783333333333333\n",
      "Genre 3: Weight 0.1265\n",
      "Genre 4: Weight 0.12183333333333334\n",
      "Genre 5: Weight 0.12283333333333334\n",
      "Genre 6: Weight 0.12633333333333333\n",
      "Genre 7: Weight 0.12316666666666666\n"
     ]
    }
   ],
   "source": [
    "### check class weights ###\n",
    "\n",
    "# Calculate class weights\n",
    "classes = np.unique(y)\n",
    "class_counts = np.bincount(y)\n",
    "class_weights = class_counts / n\n",
    "\n",
    "# Print class weights\n",
    "for genre, weight in zip(classes, class_weights):\n",
    "    print(f'Genre {genre}: Weight {weight}')"
   ]
  },
  {
   "cell_type": "code",
   "execution_count": 6,
   "id": "fd13ceff",
   "metadata": {},
   "outputs": [
    {
     "name": "stdout",
     "output_type": "stream",
     "text": [
      "features: ['chroma_cens', 'chroma_cqt', 'chroma_stft', 'mfcc', 'rmse', 'spectral_bandwidth', 'spectral_centroid', 'spectral_contrast', 'spectral_rolloff', 'tonnetz', 'zcr']\n",
      "statistics: ['kurtosis', 'max', 'mean', 'median', 'min', 'skew', 'std']\n"
     ]
    }
   ],
   "source": [
    "print(f\"features: {X.columns.get_level_values('feature').unique().tolist()}\")\n",
    "print(f\"statistics: {X.columns.get_level_values('statistics').unique().tolist()}\")"
   ]
  },
  {
   "cell_type": "code",
   "execution_count": null,
   "id": "fee583d2",
   "metadata": {},
   "outputs": [],
   "source": [
    "#  (may not be useful) plot correlations for each set of statistics\n",
    "\n",
    "statistics = X.columns.get_level_values('statistics').unique()\n",
    "\n",
    "for statistic in statistics:\n",
    "    # obtain the columns for each feature\n",
    "    cols = [col for col in X if col[1] == statistic]\n",
    "    # find the correlation matrix\n",
    "    corr = X[cols].corr()\n",
    "\n",
    "    # Generate a mask for the upper triangle\n",
    "    mask = np.triu(np.ones_like(corr, dtype=bool))\n",
    "\n",
    "    # Set up the matplotlib figure\n",
    "    f, ax = plt.subplots(figsize=(16, 11))\n",
    "\n",
    "    # Generate a custom diverging colormap\n",
    "    cmap = sns.diverging_palette(0, 25, as_cmap=True, s = 90, l = 45, n = 5)\n",
    "\n",
    "    # Draw the heatmap with the mask and correct aspect ratio\n",
    "    sns.heatmap(corr, mask=mask, cmap=cmap, vmax=.3, center=0,\n",
    "            square=True, linewidths=.5, cbar_kws={\"shrink\": .5})\n",
    "\n",
    "    plt.title(f'Correlation Heatmap (for {statistic})', fontsize = 25)\n",
    "    plt.xticks(fontsize = 10)\n",
    "    plt.yticks(fontsize = 10)"
   ]
  },
  {
   "cell_type": "markdown",
   "id": "96d63cf2",
   "metadata": {},
   "source": [
    "## Pre-processing"
   ]
  },
  {
   "cell_type": "code",
   "execution_count": 7,
   "id": "7c9fb59c",
   "metadata": {},
   "outputs": [],
   "source": [
    "from sklearn.model_selection import train_test_split\n",
    "### split into train and test set ### \n",
    "X_train, X_test, y_train, y_test = train_test_split(X, y, test_size=0.2, random_state=2024) # random seed will be set to 2024 throughout the codes for reproducibility"
   ]
  },
  {
   "cell_type": "code",
   "execution_count": 8,
   "id": "f32c045b",
   "metadata": {},
   "outputs": [],
   "source": [
    "from sklearn import preprocessing\n",
    "\n",
    "### normalisation ###\n",
    "scaler = preprocessing.MinMaxScaler() # all mapped to [0, 1], uniform scaling\n",
    "# the normaliser only uses information from the training set\n",
    "X_train_scaled = pd.DataFrame(data=scaler.fit_transform(X_train), columns=X.columns) \n",
    "X_test_scaled = pd.DataFrame(data=scaler.transform(X_test), columns=X.columns)"
   ]
  },
  {
   "cell_type": "markdown",
   "id": "e5e4253d",
   "metadata": {},
   "source": [
    "## PCA for dimension reduction"
   ]
  },
  {
   "cell_type": "code",
   "execution_count": null,
   "id": "390646ea",
   "metadata": {},
   "outputs": [],
   "source": [
    "### use PCA to reduce the dimension ###\n",
    "from sklearn.decomposition import PCA\n",
    "\n",
    "# perform the full PCA decomposition\n",
    "pca = PCA(n_components=p)\n",
    "# find the principal compoennts\n",
    "X_train_PC = pd.DataFrame(data = pca.fit_transform(X_train_scaled), columns = [f'PC {i}' for i in range(1, p+1)])\n",
    "\n",
    "# concatenate labels \n",
    "data_PCA = pd.concat([X_train_PC, y_train], axis=1)\n",
    "\n",
    "explained_variances = pca.explained_variance_ratio_\n"
   ]
  },
  {
   "cell_type": "code",
   "execution_count": null,
   "id": "3d5efff4",
   "metadata": {},
   "outputs": [
    {
     "data": {
      "text/plain": [
       "Text(0, 0.5, 'ratio of explained variance')"
      ]
     },
     "execution_count": 19,
     "metadata": {},
     "output_type": "execute_result"
    },
    {
     "data": {
      "image/png": "[encoded data removed]",
      "text/plain": [
       "<Figure size 640x480 with 1 Axes>"
      ]
     },
     "metadata": {},
     "output_type": "display_data"
    }
   ],
   "source": [
    "plt.plot(range(1, 101), explained_variances[:100])\n",
    "plt.title('explained variances by principal components')\n",
    "plt.xlabel('PC index')\n",
    "plt.ylabel('ratio of explained variance')"
   ]
  },
  {
   "cell_type": "code",
   "execution_count": null,
   "id": "386fe7b6",
   "metadata": {},
   "outputs": [],
   "source": [
    "### by elbow method, take roughly 20 principal components ###\n",
    "\n",
    "n_PCA = 20"
   ]
  },
  {
   "cell_type": "markdown",
   "id": "a253bb33",
   "metadata": {},
   "source": [
    "elbow method: take around 20 PCs as features"
   ]
  },
  {
   "cell_type": "markdown",
   "id": "bd96abcf",
   "metadata": {},
   "source": [
    "## Classical Training Models\n",
    "Naive Bayes, two-layer perceptron, linear SVM, kernel SVM, random forests (and with gradient boosting) "
   ]
  },
  {
   "cell_type": "code",
   "execution_count": null,
   "id": "a8af683c",
   "metadata": {},
   "outputs": [],
   "source": [
    "### Try Various Machien Learning Algorithms ###\n",
    "from sklearn.naive_bayes import GaussianNB\n",
    "from sklearn.linear_model import SGDClassifier, LogisticRegression\n",
    "from sklearn.tree import DecisionTreeClassifier\n",
    "from sklearn.ensemble import RandomForestClassifier\n",
    "from sklearn.svm import SVC\n",
    "from sklearn.neural_network import MLPClassifier\n",
    "from xgboost import XGBClassifier, XGBRFClassifier"
   ]
  },
  {
   "cell_type": "code",
   "execution_count": null,
   "id": "9255b49b",
   "metadata": {},
   "outputs": [],
   "source": [
    "### casual trainings with no tuning ###\n",
    "nb =  GaussianNB() # Naive bayes: no randomness, no parameters\n",
    "sgd = SGDClassifier(max_iter=4000, random_state=2024)\n",
    "tree = DecisionTreeClassifier(random_state=2024)\n",
    "rf = RandomForestClassifier(n_estimators=200, max_depth=10, random_state=2024)\n",
    "svm = SVC(decision_function_shape=\"ovo\", random_state=2024)\n",
    "lg = LogisticRegression(solver='lbfgs', multi_class='multinomial', random_state=2024)\n",
    "nn = MLPClassifier(solver='lbfgs', alpha=1e-4, hidden_layer_sizes=(64, 8), random_state=2024) # single layer perceptron\n",
    "xgb = XGBClassifier(n_estimators=500, learning_rate=0.04, random_state=2024)\n",
    "xgbrf = XGBRFClassifier(objective= 'multi:softmax', random_state=2024)\n",
    "\n",
    "algorithms_notuning = {\n",
    "    'naive_Bayes': nb,\n",
    "    'SGD' : sgd,\n",
    "    'Decision_tree': tree,\n",
    "    'random_forest': rf,\n",
    "    'SVM': svm,\n",
    "    'logistic_regression': lg,\n",
    "    'neural network': nn,\n",
    "    'cross-gradient boosting tree': xgb,\n",
    "    'cross-gradient boosting': xgbrf\n",
    "}"
   ]
  },
  {
   "cell_type": "markdown",
   "id": "58c541f1",
   "metadata": {},
   "source": [
    "### PCA for dimension-reduction"
   ]
  },
  {
   "cell_type": "code",
   "execution_count": null,
   "id": "281d7616",
   "metadata": {},
   "outputs": [],
   "source": [
    "## use PCA to reduce dimension. n = 20\n",
    "pca_20 = PCA(n_components=n_PCA)\n",
    "X_train_PC = pd.DataFrame(data = pca_20.fit_transform(X_train_scaled), columns = [f'PC {i}' for i in range(1, n_PCA+1)])"
   ]
  },
  {
   "cell_type": "code",
   "execution_count": null,
   "id": "fd8e5b62",
   "metadata": {},
   "outputs": [],
   "source": [
    "from sklearn.metrics import f1_score, accuracy_score\n",
    "\n",
    "# transform test set using PCA fitted with training set\n",
    "X_test_PCA = pd.DataFrame(data=pca_20.transform(X_test_scaled), columns = [f'PC {i}' for i in range(1, n_PCA+1)])\n",
    "\n",
    "def model_PCA(model, name):\n",
    "    \"\"\"\n",
    "    Train a model using PCA with 20 components as dimension-reduction techniquqe, \n",
    "    and assess the classification performance using accuracy and F1 score\n",
    "\n",
    "    :param model: any object with functions `fit` and `predict` defined\n",
    "    :param: name: String, the name of the algorithm, will be printed \n",
    "    \"\"\"\n",
    "    model.fit(X_train_PC, y_train)\n",
    "    y_pred = model.predict(X_test_PCA)\n",
    "    print('Test set Accuracy of', name, ':', round(accuracy_score(y_test, y_pred), 5), '\\n')\n",
    "    print('Test set F1 score of', name, ':', round(f1_score(y_test, y_pred, average='macro'), 5), '\\n')"
   ]
  },
  {
   "cell_type": "code",
   "execution_count": null,
   "id": "f587e48f",
   "metadata": {},
   "outputs": [
    {
     "name": "stdout",
     "output_type": "stream",
     "text": [
      "Test set Accuracy of naive_Bayes : 0.41917 \n",
      "\n",
      "Test set F1 score of naive_Bayes : 0.40602 \n",
      "\n",
      "Test set Accuracy of SGD : 0.40833 \n",
      "\n",
      "Test set F1 score of SGD : 0.38752 \n",
      "\n",
      "Test set Accuracy of Decision_tree : 0.30917 \n",
      "\n",
      "Test set F1 score of Decision_tree : 0.31011 \n",
      "\n",
      "Test set Accuracy of random_forest : 0.46 \n",
      "\n",
      "Test set F1 score of random_forest : 0.44998 \n",
      "\n",
      "Test set Accuracy of SVM : 0.52 \n",
      "\n",
      "Test set F1 score of SVM : 0.51406 \n",
      "\n",
      "Test set Accuracy of logistic_regression : 0.45583 \n",
      "\n",
      "Test set F1 score of logistic_regression : 0.44114 \n",
      "\n"
     ]
    },
    {
     "name": "stderr",
     "output_type": "stream",
     "text": [
      "/Users/linyuhang/mambaforge/envs/tf/lib/python3.9/site-packages/sklearn/neural_network/_multilayer_perceptron.py:536: ConvergenceWarning: lbfgs failed to converge (status=1):\n",
      "STOP: TOTAL NO. of ITERATIONS REACHED LIMIT.\n",
      "\n",
      "Increase the number of iterations (max_iter) or scale the data as shown in:\n",
      "    https://scikit-learn.org/stable/modules/preprocessing.html\n",
      "  self.n_iter_ = _check_optimize_result(\"lbfgs\", opt_res, self.max_iter)\n"
     ]
    },
    {
     "name": "stdout",
     "output_type": "stream",
     "text": [
      "Test set Accuracy of neural network : 0.45833 \n",
      "\n",
      "Test set F1 score of neural network : 0.45225 \n",
      "\n",
      "Test set Accuracy of cross-gradient boosting tree : 0.4925 \n",
      "\n",
      "Test set F1 score of cross-gradient boosting tree : 0.49172 \n",
      "\n",
      "Test set Accuracy of cross-gradient boosting : 0.4425 \n",
      "\n",
      "Test set F1 score of cross-gradient boosting : 0.42977 \n",
      "\n"
     ]
    }
   ],
   "source": [
    "for name, algorithm in algorithms_notuning.items():\n",
    "    model_PCA(algorithm, name)"
   ]
  },
  {
   "cell_type": "markdown",
   "id": "105ade29",
   "metadata": {},
   "source": [
    "### Fisher's LDA for dimension reduction"
   ]
  },
  {
   "cell_type": "code",
   "execution_count": null,
   "id": "8709f32a",
   "metadata": {},
   "outputs": [
    {
     "name": "stdout",
     "output_type": "stream",
     "text": [
      "Test Accuracy : 0.5525 \n",
      "\n"
     ]
    }
   ],
   "source": [
    "### Use LDA classifier ###\n",
    "from sklearn.discriminant_analysis import LinearDiscriminantAnalysis\n",
    "from sklearn.metrics import accuracy_score\n",
    "\n",
    "LDAclassifier = LinearDiscriminantAnalysis(n_components=7) # 7 classes in total \n",
    "LDAclassifier.fit(X_train_scaled, y_train)\n",
    "y_pred = LDAclassifier.predict(X_test_scaled)\n",
    "print('Test Accuracy', ':', round(accuracy_score(y_test, y_pred), 5), '\\n')"
   ]
  },
  {
   "cell_type": "code",
   "execution_count": null,
   "id": "096b10b3",
   "metadata": {},
   "outputs": [],
   "source": [
    "### Use LDA to reduce dimension, and apply other algorithms ###\n",
    "\n",
    "X_train_LDA = LDAclassifier.transform(X_train_scaled)\n",
    "X_test_LDA = LDAclassifier.transform(X_test_scaled)      \n",
    "\n",
    "def model_LDA(model, name):\n",
    "    \"\"\"\n",
    "    Train a model using LDA as dimension-reduction techniquqe, \n",
    "    and assess the classification performance using accuracy and F1 score\n",
    "\n",
    "    :param model: any object with functions `fit` and `predict` defined\n",
    "    :param name: String, the name of the algorithm, will be printed \n",
    "    \"\"\"\n",
    "\n",
    "    model.fit(X_train_LDA, y_train)\n",
    "    y_pred = model.predict(X_test_LDA)\n",
    "    print('Test Accuracy of', name, ':', round(accuracy_score(y_test, y_pred), 5), '\\n')\n",
    "    print('Test set F1 score of', name, ':', round(f1_score(y_test, y_pred, average='macro'), 5), '\\n')"
   ]
  },
  {
   "cell_type": "code",
   "execution_count": null,
   "id": "4e6862a9",
   "metadata": {},
   "outputs": [
    {
     "name": "stdout",
     "output_type": "stream",
     "text": [
      "Test Accuracy of naive_Bayes : 0.55583 \n",
      "\n",
      "Test set F1 score of naive_Bayes : 0.55804 \n",
      "\n",
      "Test Accuracy of SGD : 0.52833 \n",
      "\n",
      "Test set F1 score of SGD : 0.52704 \n",
      "\n",
      "Test Accuracy of Decision_tree : 0.4475 \n",
      "\n",
      "Test set F1 score of Decision_tree : 0.44824 \n",
      "\n",
      "Test Accuracy of random_forest : 0.5575 \n",
      "\n",
      "Test set F1 score of random_forest : 0.5543 \n",
      "\n",
      "Test Accuracy of SVM : 0.5475 \n",
      "\n",
      "Test set F1 score of SVM : 0.54684 \n",
      "\n",
      "Test Accuracy of logistic_regression : 0.55333 \n",
      "\n",
      "Test set F1 score of logistic_regression : 0.55338 \n",
      "\n"
     ]
    },
    {
     "name": "stderr",
     "output_type": "stream",
     "text": [
      "/Users/linyuhang/mambaforge/envs/tf/lib/python3.9/site-packages/sklearn/neural_network/_multilayer_perceptron.py:536: ConvergenceWarning: lbfgs failed to converge (status=1):\n",
      "STOP: TOTAL NO. of ITERATIONS REACHED LIMIT.\n",
      "\n",
      "Increase the number of iterations (max_iter) or scale the data as shown in:\n",
      "    https://scikit-learn.org/stable/modules/preprocessing.html\n",
      "  self.n_iter_ = _check_optimize_result(\"lbfgs\", opt_res, self.max_iter)\n"
     ]
    },
    {
     "name": "stdout",
     "output_type": "stream",
     "text": [
      "Test Accuracy of neural network : 0.52667 \n",
      "\n",
      "Test set F1 score of neural network : 0.52573 \n",
      "\n",
      "Test Accuracy of cross-gradient boosting tree : 0.53833 \n",
      "\n",
      "Test set F1 score of cross-gradient boosting tree : 0.53713 \n",
      "\n",
      "Test Accuracy of cross-gradient boosting : 0.56083 \n",
      "\n",
      "Test set F1 score of cross-gradient boosting : 0.55863 \n",
      "\n"
     ]
    }
   ],
   "source": [
    "for name, algorithm in algorithms_notuning.items():\n",
    "    model_LDA(algorithm, name)"
   ]
  },
  {
   "cell_type": "markdown",
   "id": "ad8bcee2",
   "metadata": {},
   "source": [
    "Conclusion: LDA is better than PCA for dimension reduction. Deicion trees will be discarded because the ensemble tree method always work better"
   ]
  },
  {
   "cell_type": "markdown",
   "id": "3d33bb35",
   "metadata": {},
   "source": [
    "## Cross-validation training"
   ]
  },
  {
   "cell_type": "code",
   "execution_count": 9,
   "id": "d204196b",
   "metadata": {},
   "outputs": [],
   "source": [
    "import warnings\n",
    "from sklearn.model_selection import GridSearchCV\n",
    "from sklearn.exceptions import ConvergenceWarning\n",
    "from sklearn.discriminant_analysis import LinearDiscriminantAnalysis"
   ]
  },
  {
   "cell_type": "code",
   "execution_count": null,
   "id": "f48ed185",
   "metadata": {},
   "outputs": [],
   "source": [
    "# use LDA to reduce dimensions\n",
    "LDA = LinearDiscriminantAnalysis()\n",
    "LDA.fit(X_train_scaled, y_train)\n",
    "X_train_LDA = LDA.transform(X_train_scaled)"
   ]
  },
  {
   "cell_type": "code",
   "execution_count": null,
   "id": "82f47920",
   "metadata": {},
   "outputs": [
    {
     "data": {
      "text/plain": [
       "{'alpha': 0.001, 'loss': 'log_loss', 'penalty': 'l2'}"
      ]
     },
     "execution_count": 58,
     "metadata": {},
     "output_type": "execute_result"
    }
   ],
   "source": [
    "# SGD tuning: regularisation strength, penalty and loss \n",
    "sgd = SGDClassifier(max_iter=5000)\n",
    "\n",
    "param_grid = {\n",
    "    'alpha': [0.0001, 0.001, 0.01],\n",
    "    'penalty': ['l1', 'l2', 'elasticnet'],\n",
    "    'loss': list(sgd.loss_functions)\n",
    "}\n",
    "\n",
    "with warnings.catch_warnings():\n",
    "    warnings.simplefilter(\"ignore\", category=ConvergenceWarning)\n",
    "\n",
    "    grid_SGD = GridSearchCV(sgd, param_grid, cv=5, scoring='accuracy')\n",
    "    grid_SGD.fit(X_train_LDA, y_train)"
   ]
  },
  {
   "cell_type": "code",
   "execution_count": null,
   "id": "2ea664e4",
   "metadata": {},
   "outputs": [
    {
     "data": {
      "text/plain": [
       "0.6898333333333333"
      ]
     },
     "execution_count": 59,
     "metadata": {},
     "output_type": "execute_result"
    }
   ],
   "source": [
    "print(grid_SGD.best_params_)\n",
    "grid_SGD.best_score_"
   ]
  },
  {
   "cell_type": "code",
   "execution_count": null,
   "id": "0aaef554",
   "metadata": {},
   "outputs": [],
   "source": [
    "# Random Forest tuning:  \n",
    "param_grid = {\n",
    "    'n_estimators': [50, 100], # number of trees\n",
    "    'max_depth': [None, 5, 10],\n",
    "    'min_samples_split': [8, 10, 20], # minimum size of node for splitting\n",
    "    'min_samples_leaf': [2, 4, 6],  # minimum leaf size \n",
    "    'max_features': ['auto', 'sqrt', 'log2', None] # number of features used in each tree\n",
    "}\n",
    "\n",
    "rf_classifier = RandomForestClassifier()\n",
    "\n",
    "# Perform grid search with cross-validation\n",
    "grid_RF = GridSearchCV(rf_classifier, param_grid, cv=5, scoring='accuracy')\n",
    "grid_RF.fit(X_train_LDA, y_train)"
   ]
  },
  {
   "cell_type": "code",
   "execution_count": null,
   "id": "513636d2",
   "metadata": {},
   "outputs": [],
   "source": [
    "print(grid_RF.best_params_)\n",
    "grid_RF.best_score_"
   ]
  },
  {
   "cell_type": "code",
   "execution_count": null,
   "id": "c738e467",
   "metadata": {},
   "outputs": [],
   "source": [
    "## tuning logistic regression\n",
    "\n",
    "param_grid = {\n",
    "    'C': [0.001, 0.01, 0.1, 1, 10, 100], # regularisation strength\n",
    "    'penalty': ['l1', 'l2'],\n",
    "    'solver': ['liblinear', 'lbfgs', 'newton-cg']  # solver for optimisation\n",
    "}\n",
    "\n",
    "# Create the Logistic Regression model\n",
    "logreg_model = LogisticRegression()\n",
    "\n",
    "# Perform grid search with cross-validation\n",
    "grid_logit = GridSearchCV(logreg_model, param_grid, cv=5, scoring='accuracy')\n",
    "grid_logit.fit(X_train_LDA, y_train)"
   ]
  },
  {
   "cell_type": "code",
   "execution_count": null,
   "id": "f2e44de6",
   "metadata": {},
   "outputs": [],
   "source": [
    "print(grid_logit.best_params_)\n",
    "grid_logit.best_score_"
   ]
  },
  {
   "cell_type": "code",
   "execution_count": null,
   "id": "95025b69",
   "metadata": {},
   "outputs": [],
   "source": [
    "# tunig gradient boosting random forest\n",
    "\n",
    "param_grid = {\n",
    "    'learning_rate': [0.01, 0.1, 0.2], # step size shrinkage used in each boosting iteration\n",
    "    'n_estimators': [50, 100], # number of trees\n",
    "    'max_depth': [5, 7, 10], # max tree depth\n",
    "    'subsample': [0.6, 0.8], # fraction of samples used for fitting each tree\n",
    "    'colsample_bynode': [0.6, 0.8], # fraction of features used for fitting each tree\n",
    "    'gamma': [0, 0.1, 0.2], # Minimum loss reduction required to make a further partition on a leaf node of the tree.\n",
    "}\n",
    "\n",
    "# Create the XGBRFClassifier\n",
    "xgbrf_classifier = XGBRFClassifier(random_state=42)\n",
    "\n",
    "# Perform grid search with cross-validation\n",
    "grid_xgb = GridSearchCV(xgbrf_classifier, param_grid, cv=5, scoring='accuracy')\n",
    "grid_xgb.fit(X_train_LDA, y_train)"
   ]
  },
  {
   "cell_type": "code",
   "execution_count": null,
   "id": "0beae048",
   "metadata": {},
   "outputs": [],
   "source": [
    "print(grid_xgb.best_params_)\n",
    "grid_xgb.best_score_"
   ]
  },
  {
   "cell_type": "code",
   "execution_count": null,
   "id": "20238d2c",
   "metadata": {},
   "outputs": [],
   "source": [
    "## tuning Adaboost\n",
    "from sklearn.ensemble import AdaBoostClassifier\n",
    "\n",
    "base_estimator = DecisionTreeClassifier()\n",
    "\n",
    "# Define the parameter grid for AdaBoost\n",
    "param_grid = {\n",
    "    'n_estimators': [50, 100, 200], # number of trees\n",
    "    'learning_rate': [0.01, 0.1, 0.5],\n",
    "    'base_estimator__max_depth': [2, 4, 6] \n",
    "}\n",
    "\n",
    "# Create the AdaBoostClassifier\n",
    "adaboost = AdaBoostClassifier(base_estimator=base_estimator)\n",
    "\n",
    "# grid search\n",
    "grid_ada = GridSearchCV(adaboost, param_grid, cv=5, scoring='accuracy')\n",
    "grid_ada.fit(X_train, y_train)"
   ]
  },
  {
   "cell_type": "code",
   "execution_count": null,
   "id": "799dd6bc",
   "metadata": {},
   "outputs": [],
   "source": [
    "print(grid_ada.best_params_)\n",
    "grid_ada.best_score_"
   ]
  },
  {
   "cell_type": "markdown",
   "id": "46597438",
   "metadata": {},
   "source": [
    "## MLP training using tensorflow"
   ]
  },
  {
   "cell_type": "code",
   "execution_count": 10,
   "id": "88fa4c88",
   "metadata": {},
   "outputs": [],
   "source": [
    "import tensorflow as tf\n",
    "from tensorflow.keras.optimizers import Adam\n",
    "from tensorflow.keras import Sequential\n",
    "from tensorflow.keras.layers import Dense, Dropout, BatchNormalization, InputLayer, PReLU, LeakyReLU"
   ]
  },
  {
   "cell_type": "code",
   "execution_count": 11,
   "id": "0b98d1eb",
   "metadata": {},
   "outputs": [],
   "source": [
    "### dimension reduction ### \n",
    "# use LDA\n",
    "LDA = LinearDiscriminantAnalysis()\n",
    "LDA.fit(X_train_scaled, y_train)\n",
    "X_train_reduced = LDA.transform(X_train_scaled)\n",
    "X_test_reduced = LDA.transform(X_test_scaled)"
   ]
  },
  {
   "cell_type": "code",
   "execution_count": 12,
   "id": "ee6dbad6",
   "metadata": {},
   "outputs": [
    {
     "name": "stderr",
     "output_type": "stream",
     "text": [
      "2024-03-09 14:01:05.372520: W tensorflow/tsl/platform/profile_utils/cpu_utils.cc:128] Failed to get CPU frequency: 0 Hz\n"
     ]
    },
    {
     "data": {
      "image/png": "[encoded data removed]",
      "text/plain": [
       "<Figure size 640x480 with 1 Axes>"
      ]
     },
     "metadata": {},
     "output_type": "display_data"
    }
   ],
   "source": [
    "tf.random.set_seed(2024)\n",
    "### set basic parameters\n",
    "batch_size = 8\n",
    "activation = 'prelu' # activation for the hidden layers: `relu`, `prelu`, `leakyrelu`\n",
    "learning_rate = 1e-4\n",
    "n_epoches = 50\n",
    "dropout_rate = 0.5 # set to 0 to avoid drop-out\n",
    "layer_widths = [128, 64] # number of hidden units in each hidden layer\n",
    "n_layers = len(layer_widths)\n",
    "normalisation = True\n",
    "\n",
    "### define architecture:\n",
    "base_architecture = Sequential()\n",
    "base_architecture.add(InputLayer(input_shape=(X_train_reduced.shape[1],)))\n",
    "\n",
    "# feedforward neural network \n",
    "for l in range(n_layers):\n",
    "    if activation == 'relu':\n",
    "        base_architecture.add(Dense(layer_widths[l], activation='relu'))\n",
    "    else:\n",
    "        base_architecture.add(Dense(layer_widths[l]))\n",
    "    # dropout \n",
    "    base_architecture.add(Dropout(dropout_rate))\n",
    "    # other activations\n",
    "    if activation == 'prelu':\n",
    "        base_architecture.add(PReLU())\n",
    "    elif activation == 'leakyrelu':\n",
    "        base_architecture.add(LeakyReLU())\n",
    "    # normalisation\n",
    "    if normalisation:\n",
    "        base_architecture.add(BatchNormalization())\n",
    "\n",
    "# add output layer\n",
    "base_architecture.add(Dense(units=8, activation = 'softmax')) \n",
    "\n",
    "# define the model with Adam optimiser\n",
    "model = Sequential.from_config(base_architecture.get_config())\n",
    "model.compile(optimizer=Adam(learning_rate=learning_rate),\n",
    "    loss='sparse_categorical_crossentropy', \n",
    "    metrics=['accuracy'])\n",
    "history = model.fit(X_train_reduced, y_train, epochs=n_epoches, batch_size=batch_size, validation_data=(X_test_reduced, y_test), verbose=0)\n",
    "\n",
    "def plot_val_accuracy(history):\n",
    "    \"\"\" Plot the change of validation accuracy \"\"\"\n",
    "    plt.plot(history.history['val_accuracy'], label='Validation Accuracy')\n",
    "    plt.xlabel('Epoch')\n",
    "    plt.ylabel('Accuracy')\n",
    "    plt.title('Change of Validation Accuracy during Training')\n",
    "    plt.legend()\n",
    "    plt.show()\n",
    "\n",
    "plot_val_accuracy(history)\n"
   ]
  },
  {
   "cell_type": "code",
   "execution_count": 26,
   "id": "492bd74e",
   "metadata": {},
   "outputs": [
    {
     "name": "stdout",
     "output_type": "stream",
     "text": [
      "test accuracy: 0.5516666769981384\n"
     ]
    }
   ],
   "source": [
    "MLP_test_acc = history.history['val_accuracy'][-1]\n",
    "print(f'test accuracy: {MLP_test_acc}')"
   ]
  },
  {
   "cell_type": "markdown",
   "id": "1c929389",
   "metadata": {},
   "source": [
    "## Superlearner\n",
    "Ensemble method of the classical classifiers described above"
   ]
  },
  {
   "cell_type": "code",
   "execution_count": 15,
   "id": "2b77b8d2",
   "metadata": {},
   "outputs": [],
   "source": [
    "from sklearn.model_selection import KFold\n",
    "from sklearn.linear_model import SGDClassifier, LogisticRegression\n",
    "from xgboost import XGBClassifier, XGBRFClassifier"
   ]
  },
  {
   "cell_type": "code",
   "execution_count": 16,
   "id": "a29992f7",
   "metadata": {},
   "outputs": [],
   "source": [
    "# create a list of base-models\n",
    "classifiers = {}\n",
    "## need to adjust the paramters !!!!!!! LDA procedure changed\n",
    "classifiers['SGD_LM'] = SGDClassifier(max_iter=5000, alpha=0.001, loss='log_loss', penalty='l2')\n",
    "classifiers['logistic'] = LogisticRegression(C=1, penalty='l1', solver='liblinear')\n",
    "classifiers['Gradient_Boost'] = XGBRFClassifier(colsample_bynode=0.6, gamma=0, learning_rate=0.01, max_depth=7, n_estimators=100, subsample=0.6)"
   ]
  },
  {
   "cell_type": "code",
   "execution_count": 17,
   "id": "d7a97865",
   "metadata": {},
   "outputs": [],
   "source": [
    "# collect out of fold predictions form k-fold cross validation\n",
    "def out_of_fold_predictions(X, y, models):\n",
    "\t\"\"\"\n",
    "\tparam X: input data\n",
    "\tparam y: class labels\n",
    "\tmodels: based models for the super-learner\n",
    "\t\"\"\"\n",
    "\tX_out, y_out = list(), list()\n",
    "\t# define partition of data into 10 folds\n",
    "\tkfold = KFold(n_splits=10, shuffle=True)\n",
    "\t# enumerate splits\n",
    "\tfor train_ids, test_ids in kfold.split(X):\n",
    "\t\ty_preds = list()\n",
    "\t\t# split data\n",
    "\t\tX = np.array(X)\n",
    "\t\tX_train, X_test = X[train_ids], X[test_ids]\n",
    "\t\ty = np.array(y)\n",
    "\t\ty_train, y_test = y[train_ids], y[test_ids]\n",
    "\t\ty_out.extend(y_test)\n",
    "\t\t# fit and make predictions with each base model\n",
    "\t\tfor _, model in models.items():\n",
    "\t\t\tmodel.fit(X_train, y_train)\n",
    "\t\t\ty_probs = model.predict_proba(X_test)\n",
    "\t\t\t# store columns\n",
    "\t\t\ty_preds.append(y_probs)\n",
    "\t\t# store fold yhats as columns\n",
    "\t\tX_out.append(np.hstack(y_preds))\n",
    "\treturn np.vstack(X_out), np.asarray(y_out)"
   ]
  },
  {
   "cell_type": "code",
   "execution_count": 18,
   "id": "e48cde51",
   "metadata": {},
   "outputs": [],
   "source": [
    "def fit_base(X, y, models):\n",
    "\tfor name, model in models.items():\n",
    "\t\tif name != 'MLP':\n",
    "\t\t\tmodel.fit(X, y)\n",
    "\n",
    "## used on out-of-fold predictions\n",
    "def fit_meta(X, y):\n",
    "    model = LogisticRegression(solver='liblinear')\n",
    "    model.fit(X, y)\n",
    "    return model\n",
    "\n",
    "def superlearner_predict(X, models, meta_model):\n",
    "\tmeta_X = list()\n",
    "\tfor _, model in models.items():\n",
    "\t\ty_probs = model.predict_proba(X)\n",
    "\t\tmeta_X.append(y_probs)\n",
    "\tmeta_X = np.hstack(meta_X)\n",
    "\treturn meta_model.predict(meta_X)"
   ]
  },
  {
   "cell_type": "code",
   "execution_count": 23,
   "id": "807be515",
   "metadata": {},
   "outputs": [
    {
     "name": "stdout",
     "output_type": "stream",
     "text": [
      "Super Learner test accuracy: 55.333\n"
     ]
    }
   ],
   "source": [
    "# use LDA to reduce dimensions\n",
    "from sklearn.metrics import accuracy_score\n",
    "from sklearn.discriminant_analysis import LinearDiscriminantAnalysis\n",
    "\n",
    "LDA = LinearDiscriminantAnalysis()\n",
    "LDA.fit(X_train_scaled, y_train)\n",
    "X_train_LDA = LDA.transform(X_train_scaled)\n",
    "X_test_LDA = LDA.transform(X_test_scaled)\n",
    "\n",
    "meta_X, meta_y = out_of_fold_predictions(X_train_LDA, y_train, classifiers)\n",
    "\n",
    "fit_base(X_train_LDA, y_train, classifiers)\n",
    "meta_model = fit_meta(meta_X, meta_y)\n",
    "\n",
    "y_pred = superlearner_predict(X_test_LDA, classifiers, meta_model)\n",
    "print('Super Learner test accuracy: %.3f' % (accuracy_score(y_test, y_pred) * 100))"
   ]
  },
  {
   "cell_type": "markdown",
   "id": "d81c8fe7",
   "metadata": {},
   "source": [
    "## Export final prediction in csv format "
   ]
  },
  {
   "cell_type": "code",
   "execution_count": null,
   "id": "45eb40c5",
   "metadata": {},
   "outputs": [],
   "source": [
    "X_output = pd.read_csv('data/X_test.csv', index_col = 0, header=[0, 1, 2]) # inputs of the test set\n",
    "y_output = ..."
   ]
  },
  {
   "cell_type": "code",
   "execution_count": null,
   "id": "706f456c",
   "metadata": {},
   "outputs": [],
   "source": [
    "# Export the predictions on the test data in csv format\n",
    "prediction = pd.DataFrame(y_output, columns=['Genre'])\n",
    "prediction.index.name='Id'\n",
    "prediction.to_csv('data/myprediction.csv') # export to csv file"
   ]
  }
 ],
 "metadata": {
  "kernelspec": {
   "display_name": "Python 3 (ipykernel)",
   "language": "python",
   "name": "python3"
  },
  "language_info": {
   "codemirror_mode": {
    "name": "ipython",
    "version": 3
   },
   "file_extension": ".py",
   "mimetype": "text/x-python",
   "name": "python",
   "nbconvert_exporter": "python",
   "pygments_lexer": "ipython3",
   "version": "3.9.15"
  }
 },
 "nbformat": 4,
 "nbformat_minor": 5
}
