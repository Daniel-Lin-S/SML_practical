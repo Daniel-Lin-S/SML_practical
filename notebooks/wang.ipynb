{
 "cells": [
  {
   "cell_type": "code",
   "execution_count": 1,
   "metadata": {},
   "outputs": [
    {
     "name": "stderr",
     "output_type": "stream",
     "text": [
      "INFO:numexpr.utils:NumExpr defaulting to 8 threads.\n"
     ]
    },
    {
     "name": "stdout",
     "output_type": "stream",
     "text": [
      "/Users/isomorphicdude/Library/Mobile Documents/com~apple~CloudDocs/MSc/SB2.2_Statistical_Machine_Learning/Practicals/Assessed/SML_pratical/notebooks\n"
     ]
    }
   ],
   "source": [
    "import sys\n",
    "import os\n",
    "src_dir = os.path.join(os.getcwd(), '../src')\n",
    "if src_dir not in sys.path:\n",
    "    sys.path.append(src_dir)\n",
    "\n",
    "from nn_model import *\n",
    "from run_nn import *\n",
    "from train_nn import *\n",
    "from dataloader import *\n",
    "from group_transformer import *\n",
    "\n",
    "import pandas as pd\n",
    "\n",
    "print(os.getcwd())\n"
   ]
  },
  {
   "cell_type": "code",
   "execution_count": 2,
   "metadata": {},
   "outputs": [],
   "source": [
    "# Load the training data and the test inputs\n",
    "X_all = pd.read_csv('../data/X_train.csv', index_col = 0, header=[0, 1, 2]) # inputs of the training set\n",
    "y_all = pd.read_csv('../data/y_train.csv', index_col = 0).squeeze('columns') # outputs of the training set\n",
    "X_test = pd.read_csv('../data/X_test.csv', index_col = 0, header=[0, 1, 2]) # inputs of the test set"
   ]
  },
  {
   "cell_type": "code",
   "execution_count": 3,
   "metadata": {},
   "outputs": [],
   "source": [
    "from sklearn.preprocessing import StandardScaler, LabelEncoder\n",
    "y_all = LabelEncoder().fit_transform(y_all)"
   ]
  },
  {
   "cell_type": "code",
   "execution_count": 4,
   "metadata": {},
   "outputs": [],
   "source": [
    "from sklearn.model_selection import train_test_split\n",
    "# create dataset\n",
    "X_train, X_val, y_train, y_val = train_test_split(X_all, \n",
    "                                                  y_all, \n",
    "                                                  test_size=0.2, \n",
    "                                                  random_state=42,\n",
    "                                                  shuffle=False)\n",
    "\n",
    "# LDA fit on training data\n",
    "from sklearn.discriminant_analysis import LinearDiscriminantAnalysis\n",
    "LDA_model = LinearDiscriminantAnalysis(n_components=None)\n",
    "\n",
    "X_train = X_train.to_numpy()\n",
    "LDA_model.fit(X_train, y_train)\n",
    "\n",
    "X_train = LDA_model.transform(X_train)\n",
    "\n",
    "# LDA transform on validation data using training LDA model\n",
    "X_val = X_val.to_numpy()\n",
    "\n",
    "X_val = LDA_model.transform(X_val)"
   ]
  },
  {
   "cell_type": "code",
   "execution_count": 5,
   "metadata": {},
   "outputs": [
    {
     "name": "stdout",
     "output_type": "stream",
     "text": [
      "X shape: torch.Size([4800, 7])\n",
      "y shape: torch.Size([4800])\n",
      "X shape: torch.Size([1200, 7])\n",
      "y shape: torch.Size([1200])\n"
     ]
    }
   ],
   "source": [
    "from torch.utils.data import DataLoader\n",
    "\n",
    "train_set = MusicData(X_train, y_train)\n",
    "val_set = MusicData(X_val, y_val)\n",
    "\n",
    "train_loader = DataLoader(train_set, batch_size=64, shuffle=True)\n",
    "val_loader = DataLoader(val_set, batch_size=64, shuffle=True)"
   ]
  },
  {
   "cell_type": "code",
   "execution_count": 6,
   "metadata": {},
   "outputs": [],
   "source": [
    "import numpy as np\n",
    "mlp = MLP(input_dim=X_train.shape[1], \n",
    "          hidden_dims=[128, 64], \n",
    "          output_dim=np.unique(y_all).shape[0],\n",
    "          dropout=0.0,\n",
    "          activation = 'relu')\n",
    "\n",
    "# train_loss, test_loss = run_training_loop(\n",
    "#     num_epochs=10,\n",
    "#     train_loader=train_loader,\n",
    "#     val_loader=val_loader,\n",
    "#     model=mlp,\n",
    "#     optimizer=torch.optim.Adam(mlp.parameters(), lr=0.1),\n",
    "#     loss_function=torch.nn.CrossEntropyLoss(),\n",
    "#     device=\"cpu\",\n",
    "# )"
   ]
  },
  {
   "cell_type": "code",
   "execution_count": null,
   "metadata": {},
   "outputs": [
    {
     "data": {
      "text/plain": [
       "0.5275"
      ]
     },
     "execution_count": 7,
     "metadata": {},
     "output_type": "execute_result"
    }
   ],
   "source": [
    "from sklearn.metrics import accuracy_score\n",
    "# Load model state dict\n",
    "mlp.load_state_dict(torch.load('models/model.pth'))\n",
    "mlp.eval()\n",
    "\n",
    "# predict\n",
    "y_pred = mlp(torch.tensor(X_val).float()).detach().numpy()\n",
    "\n",
    "accuracy_score(y_val, np.argmax(y_pred, axis=1))"
   ]
  }
 ],
 "metadata": {
  "kernelspec": {
   "display_name": "torch",
   "language": "python",
   "name": "python3"
  },
  "language_info": {
   "codemirror_mode": {
    "name": "ipython",
    "version": 3
   },
   "file_extension": ".py",
   "mimetype": "text/x-python",
   "name": "python",
   "nbconvert_exporter": "python",
   "pygments_lexer": "ipython3",
   "version": "3.8.15"
  }
 },
 "nbformat": 4,
 "nbformat_minor": 2
}
